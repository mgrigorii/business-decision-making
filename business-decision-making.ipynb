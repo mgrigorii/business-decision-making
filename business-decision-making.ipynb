{
 "cells": [
  {
   "cell_type": "markdown",
   "metadata": {},
   "source": [
    "## This project consists of two parts.\n",
    "\n",
    "### Part 1\n",
    "We will work on techniques for prioritizing hypotheses using the ICE and RICE frameworks. Consider the features of each framework and the result of its application for business.\n",
    "\n",
    "data - hypothesis.csv\n",
    "\n",
    "    Hypothesis - a brief description of the hypothesis; \n",
    "    Reach - user coverage on a 10-point scale;\n",
    "    Impact - impact on users on a 10-point scale;\n",
    "    Confidence - confidence in the hypothesis on a 10-point scale;\n",
    "    Efforts - the cost of resources to test the hypothesis on a 10-point scale. The larger the Efforts value, the more expensive the hypothesis test.\n",
    "\n",
    "### Part 2\n",
    "Using the data of the test, you will need to analyze the results and decide what to do with the test: \n",
    "1. Stop the test, record the victory of one of the groups. \n",
    "2. Stop the test, record the absence of differences between groups. \n",
    "3. Continue the test.\n",
    "\n",
    "data - orders.csv\n",
    "\n",
    "    transactionId - order identifier;\n",
    "    visitorId - identifier of the user who made the order;\n",
    "    date — date when the order was made;\n",
    "    revenue — order revenue;\n",
    "    group — the A/B test group the order belongs to.\n",
    "\n",
    "data - visitors.csv\n",
    "\n",
    "    date - date;\n",
    "    group — A/B test group;\n",
    "    visitors - the number of users on the specified date in the specified A/B test group\n",
    "\n"
   ]
  },
  {
   "cell_type": "code",
   "execution_count": 88,
   "metadata": {},
   "outputs": [],
   "source": [
    "# Importing Libraries\n",
    "\n",
    "import pandas as pd\n",
    "import scipy.stats as stats\n",
    "import datetime as dt\n",
    "import numpy as np\n",
    "import matplotlib.pyplot as plt\n",
    "from pandas.plotting import register_matplotlib_converters\n",
    "import warnings"
   ]
  },
  {
   "cell_type": "markdown",
   "metadata": {},
   "source": [
    "### Part one code:"
   ]
  },
  {
   "cell_type": "code",
   "execution_count": 89,
   "metadata": {},
   "outputs": [
    {
     "data": {
      "text/html": [
       "<div>\n",
       "<style scoped>\n",
       "    .dataframe tbody tr th:only-of-type {\n",
       "        vertical-align: middle;\n",
       "    }\n",
       "\n",
       "    .dataframe tbody tr th {\n",
       "        vertical-align: top;\n",
       "    }\n",
       "\n",
       "    .dataframe thead th {\n",
       "        text-align: right;\n",
       "    }\n",
       "</style>\n",
       "<table border=\"1\" class=\"dataframe\">\n",
       "  <thead>\n",
       "    <tr style=\"text-align: right;\">\n",
       "      <th></th>\n",
       "      <th>Hypothesis</th>\n",
       "      <th>Reach</th>\n",
       "      <th>Impact</th>\n",
       "      <th>Confidence</th>\n",
       "      <th>Efforts</th>\n",
       "    </tr>\n",
       "  </thead>\n",
       "  <tbody>\n",
       "    <tr>\n",
       "      <th>0</th>\n",
       "      <td>Add two new channels to attract traffic, which will attract 30% more users</td>\n",
       "      <td>3</td>\n",
       "      <td>10</td>\n",
       "      <td>8</td>\n",
       "      <td>6</td>\n",
       "    </tr>\n",
       "    <tr>\n",
       "      <th>1</th>\n",
       "      <td>Launch your own delivery service, which will reduce the delivery time of orders</td>\n",
       "      <td>2</td>\n",
       "      <td>5</td>\n",
       "      <td>4</td>\n",
       "      <td>10</td>\n",
       "    </tr>\n",
       "    <tr>\n",
       "      <th>2</th>\n",
       "      <td>Add product recommendation blocks to the online store website to increase conversion and average check of the order</td>\n",
       "      <td>8</td>\n",
       "      <td>3</td>\n",
       "      <td>7</td>\n",
       "      <td>3</td>\n",
       "    </tr>\n",
       "    <tr>\n",
       "      <th>3</th>\n",
       "      <td>Change the structure of categories, which will increase the conversion, because. users will find the right product faster</td>\n",
       "      <td>8</td>\n",
       "      <td>3</td>\n",
       "      <td>3</td>\n",
       "      <td>8</td>\n",
       "    </tr>\n",
       "    <tr>\n",
       "      <th>4</th>\n",
       "      <td>Change the homepage background color to increase user engagement</td>\n",
       "      <td>3</td>\n",
       "      <td>1</td>\n",
       "      <td>1</td>\n",
       "      <td>1</td>\n",
       "    </tr>\n",
       "    <tr>\n",
       "      <th>5</th>\n",
       "      <td>Add a customer reviews page about the store, which will increase the number of orders</td>\n",
       "      <td>3</td>\n",
       "      <td>2</td>\n",
       "      <td>2</td>\n",
       "      <td>3</td>\n",
       "    </tr>\n",
       "    <tr>\n",
       "      <th>6</th>\n",
       "      <td>Show banners with current promotions and sales on the main page to increase conversion</td>\n",
       "      <td>5</td>\n",
       "      <td>3</td>\n",
       "      <td>8</td>\n",
       "      <td>3</td>\n",
       "    </tr>\n",
       "    <tr>\n",
       "      <th>7</th>\n",
       "      <td>Add a subscription form to all main pages to build a customer base for email newsletters</td>\n",
       "      <td>10</td>\n",
       "      <td>7</td>\n",
       "      <td>8</td>\n",
       "      <td>5</td>\n",
       "    </tr>\n",
       "    <tr>\n",
       "      <th>8</th>\n",
       "      <td>Launch a promotion that gives a discount on goods on your birthday</td>\n",
       "      <td>1</td>\n",
       "      <td>9</td>\n",
       "      <td>9</td>\n",
       "      <td>5</td>\n",
       "    </tr>\n",
       "  </tbody>\n",
       "</table>\n",
       "</div>"
      ],
      "text/plain": [
       "                                                                                                                  Hypothesis   \n",
       "0                                                 Add two new channels to attract traffic, which will attract 30% more users  \\\n",
       "1                                            Launch your own delivery service, which will reduce the delivery time of orders   \n",
       "2        Add product recommendation blocks to the online store website to increase conversion and average check of the order   \n",
       "3  Change the structure of categories, which will increase the conversion, because. users will find the right product faster   \n",
       "4                                                           Change the homepage background color to increase user engagement   \n",
       "5                                      Add a customer reviews page about the store, which will increase the number of orders   \n",
       "6                                     Show banners with current promotions and sales on the main page to increase conversion   \n",
       "7                                   Add a subscription form to all main pages to build a customer base for email newsletters   \n",
       "8                                                         Launch a promotion that gives a discount on goods on your birthday   \n",
       "\n",
       "   Reach  Impact  Confidence  Efforts  \n",
       "0      3      10           8        6  \n",
       "1      2       5           4       10  \n",
       "2      8       3           7        3  \n",
       "3      8       3           3        8  \n",
       "4      3       1           1        1  \n",
       "5      3       2           2        3  \n",
       "6      5       3           8        3  \n",
       "7     10       7           8        5  \n",
       "8      1       9           9        5  "
      ]
     },
     "execution_count": 89,
     "metadata": {},
     "output_type": "execute_result"
    }
   ],
   "source": [
    "# Importing data\n",
    "hypothesis = pd.read_csv('hypothesis.csv')\n",
    "hypothesis.head(10)"
   ]
  },
  {
   "cell_type": "code",
   "execution_count": 90,
   "metadata": {},
   "outputs": [
    {
     "data": {
      "text/html": [
       "<div>\n",
       "<style scoped>\n",
       "    .dataframe tbody tr th:only-of-type {\n",
       "        vertical-align: middle;\n",
       "    }\n",
       "\n",
       "    .dataframe tbody tr th {\n",
       "        vertical-align: top;\n",
       "    }\n",
       "\n",
       "    .dataframe thead th {\n",
       "        text-align: right;\n",
       "    }\n",
       "</style>\n",
       "<table border=\"1\" class=\"dataframe\">\n",
       "  <thead>\n",
       "    <tr style=\"text-align: right;\">\n",
       "      <th></th>\n",
       "      <th>hypothesis</th>\n",
       "      <th>reach</th>\n",
       "      <th>impact</th>\n",
       "      <th>confidence</th>\n",
       "      <th>efforts</th>\n",
       "    </tr>\n",
       "  </thead>\n",
       "  <tbody>\n",
       "    <tr>\n",
       "      <th>0</th>\n",
       "      <td>Add two new channels to attract traffic, which will attract 30% more users</td>\n",
       "      <td>3</td>\n",
       "      <td>10</td>\n",
       "      <td>8</td>\n",
       "      <td>6</td>\n",
       "    </tr>\n",
       "    <tr>\n",
       "      <th>1</th>\n",
       "      <td>Launch your own delivery service, which will reduce the delivery time of orders</td>\n",
       "      <td>2</td>\n",
       "      <td>5</td>\n",
       "      <td>4</td>\n",
       "      <td>10</td>\n",
       "    </tr>\n",
       "  </tbody>\n",
       "</table>\n",
       "</div>"
      ],
      "text/plain": [
       "                                                                        hypothesis   \n",
       "0       Add two new channels to attract traffic, which will attract 30% more users  \\\n",
       "1  Launch your own delivery service, which will reduce the delivery time of orders   \n",
       "\n",
       "   reach  impact  confidence  efforts  \n",
       "0      3      10           8        6  \n",
       "1      2       5           4       10  "
      ]
     },
     "execution_count": 90,
     "metadata": {},
     "output_type": "execute_result"
    }
   ],
   "source": [
    "# Updating headers of the table\n",
    "hypothesis.columns = hypothesis.columns.str.lower()\n",
    "hypothesis.head(2)"
   ]
  },
  {
   "cell_type": "code",
   "execution_count": 91,
   "metadata": {},
   "outputs": [
    {
     "name": "stdout",
     "output_type": "stream",
     "text": [
      "                                                                                                                  hypothesis   \n",
      "8                                                         Launch a promotion that gives a discount on goods on your birthday  \\\n",
      "0                                                 Add two new channels to attract traffic, which will attract 30% more users   \n",
      "7                                   Add a subscription form to all main pages to build a customer base for email newsletters   \n",
      "6                                     Show banners with current promotions and sales on the main page to increase conversion   \n",
      "2        Add product recommendation blocks to the online store website to increase conversion and average check of the order   \n",
      "1                                            Launch your own delivery service, which will reduce the delivery time of orders   \n",
      "5                                      Add a customer reviews page about the store, which will increase the number of orders   \n",
      "3  Change the structure of categories, which will increase the conversion, because. users will find the right product faster   \n",
      "4                                                           Change the homepage background color to increase user engagement   \n",
      "\n",
      "         ICE  \n",
      "8  16.200000  \n",
      "0  13.333333  \n",
      "7  11.200000  \n",
      "6   8.000000  \n",
      "2   7.000000  \n",
      "1   2.000000  \n",
      "5   1.333333  \n",
      "3   1.125000  \n",
      "4   1.000000  \n"
     ]
    }
   ],
   "source": [
    "# Let's use the ICE framework to prioritize hypotheses. Sort by descending priority.\n",
    "hypothesis['ICE'] = (hypothesis['impact'] * hypothesis['confidence']) / hypothesis['efforts']\n",
    "print(hypothesis[['hypothesis','ICE']].sort_values(by = 'ICE', ascending = False))\n"
   ]
  },
  {
   "cell_type": "code",
   "execution_count": 92,
   "metadata": {},
   "outputs": [
    {
     "name": "stdout",
     "output_type": "stream",
     "text": [
      "                                                                                                                  hypothesis   \n",
      "7                                   Add a subscription form to all main pages to build a customer base for email newsletters  \\\n",
      "2        Add product recommendation blocks to the online store website to increase conversion and average check of the order   \n",
      "0                                                 Add two new channels to attract traffic, which will attract 30% more users   \n",
      "6                                     Show banners with current promotions and sales on the main page to increase conversion   \n",
      "8                                                         Launch a promotion that gives a discount on goods on your birthday   \n",
      "3  Change the structure of categories, which will increase the conversion, because. users will find the right product faster   \n",
      "1                                            Launch your own delivery service, which will reduce the delivery time of orders   \n",
      "5                                      Add a customer reviews page about the store, which will increase the number of orders   \n",
      "4                                                           Change the homepage background color to increase user engagement   \n",
      "\n",
      "    RICE  \n",
      "7  112.0  \n",
      "2   56.0  \n",
      "0   40.0  \n",
      "6   40.0  \n",
      "8   16.2  \n",
      "3    9.0  \n",
      "1    4.0  \n",
      "5    4.0  \n",
      "4    3.0  \n"
     ]
    }
   ],
   "source": [
    "# Let's use the RICE framework to prioritize hypotheses. Sort them in descending order of priority.\n",
    "hypothesis['RICE'] = (hypothesis['reach'] * hypothesis['impact'] * hypothesis['confidence']) / hypothesis['efforts']\n",
    "print(hypothesis[['hypothesis', 'RICE']].sort_values(by = 'RICE', ascending = False))"
   ]
  },
  {
   "cell_type": "code",
   "execution_count": 93,
   "metadata": {},
   "outputs": [
    {
     "data": {
      "text/html": [
       "<div>\n",
       "<style scoped>\n",
       "    .dataframe tbody tr th:only-of-type {\n",
       "        vertical-align: middle;\n",
       "    }\n",
       "\n",
       "    .dataframe tbody tr th {\n",
       "        vertical-align: top;\n",
       "    }\n",
       "\n",
       "    .dataframe thead th {\n",
       "        text-align: right;\n",
       "    }\n",
       "</style>\n",
       "<table border=\"1\" class=\"dataframe\">\n",
       "  <thead>\n",
       "    <tr style=\"text-align: right;\">\n",
       "      <th></th>\n",
       "      <th>hypothesis</th>\n",
       "      <th>reach</th>\n",
       "      <th>impact</th>\n",
       "      <th>confidence</th>\n",
       "      <th>efforts</th>\n",
       "      <th>ICE</th>\n",
       "      <th>RICE</th>\n",
       "    </tr>\n",
       "  </thead>\n",
       "  <tbody>\n",
       "    <tr>\n",
       "      <th>0</th>\n",
       "      <td>Add two new channels to attract traffic, which will attract 30% more users</td>\n",
       "      <td>3</td>\n",
       "      <td>10</td>\n",
       "      <td>8</td>\n",
       "      <td>6</td>\n",
       "      <td>13.33</td>\n",
       "      <td>40.0</td>\n",
       "    </tr>\n",
       "    <tr>\n",
       "      <th>1</th>\n",
       "      <td>Launch your own delivery service, which will reduce the delivery time of orders</td>\n",
       "      <td>2</td>\n",
       "      <td>5</td>\n",
       "      <td>4</td>\n",
       "      <td>10</td>\n",
       "      <td>2.00</td>\n",
       "      <td>4.0</td>\n",
       "    </tr>\n",
       "    <tr>\n",
       "      <th>2</th>\n",
       "      <td>Add product recommendation blocks to the online store website to increase conversion and average check of the order</td>\n",
       "      <td>8</td>\n",
       "      <td>3</td>\n",
       "      <td>7</td>\n",
       "      <td>3</td>\n",
       "      <td>7.00</td>\n",
       "      <td>56.0</td>\n",
       "    </tr>\n",
       "    <tr>\n",
       "      <th>3</th>\n",
       "      <td>Change the structure of categories, which will increase the conversion, because. users will find the right product faster</td>\n",
       "      <td>8</td>\n",
       "      <td>3</td>\n",
       "      <td>3</td>\n",
       "      <td>8</td>\n",
       "      <td>1.12</td>\n",
       "      <td>9.0</td>\n",
       "    </tr>\n",
       "    <tr>\n",
       "      <th>4</th>\n",
       "      <td>Change the homepage background color to increase user engagement</td>\n",
       "      <td>3</td>\n",
       "      <td>1</td>\n",
       "      <td>1</td>\n",
       "      <td>1</td>\n",
       "      <td>1.00</td>\n",
       "      <td>3.0</td>\n",
       "    </tr>\n",
       "    <tr>\n",
       "      <th>5</th>\n",
       "      <td>Add a customer reviews page about the store, which will increase the number of orders</td>\n",
       "      <td>3</td>\n",
       "      <td>2</td>\n",
       "      <td>2</td>\n",
       "      <td>3</td>\n",
       "      <td>1.33</td>\n",
       "      <td>4.0</td>\n",
       "    </tr>\n",
       "    <tr>\n",
       "      <th>6</th>\n",
       "      <td>Show banners with current promotions and sales on the main page to increase conversion</td>\n",
       "      <td>5</td>\n",
       "      <td>3</td>\n",
       "      <td>8</td>\n",
       "      <td>3</td>\n",
       "      <td>8.00</td>\n",
       "      <td>40.0</td>\n",
       "    </tr>\n",
       "    <tr>\n",
       "      <th>7</th>\n",
       "      <td>Add a subscription form to all main pages to build a customer base for email newsletters</td>\n",
       "      <td>10</td>\n",
       "      <td>7</td>\n",
       "      <td>8</td>\n",
       "      <td>5</td>\n",
       "      <td>11.20</td>\n",
       "      <td>112.0</td>\n",
       "    </tr>\n",
       "    <tr>\n",
       "      <th>8</th>\n",
       "      <td>Launch a promotion that gives a discount on goods on your birthday</td>\n",
       "      <td>1</td>\n",
       "      <td>9</td>\n",
       "      <td>9</td>\n",
       "      <td>5</td>\n",
       "      <td>16.20</td>\n",
       "      <td>16.2</td>\n",
       "    </tr>\n",
       "  </tbody>\n",
       "</table>\n",
       "</div>"
      ],
      "text/plain": [
       "                                                                                                                  hypothesis   \n",
       "0                                                 Add two new channels to attract traffic, which will attract 30% more users  \\\n",
       "1                                            Launch your own delivery service, which will reduce the delivery time of orders   \n",
       "2        Add product recommendation blocks to the online store website to increase conversion and average check of the order   \n",
       "3  Change the structure of categories, which will increase the conversion, because. users will find the right product faster   \n",
       "4                                                           Change the homepage background color to increase user engagement   \n",
       "5                                      Add a customer reviews page about the store, which will increase the number of orders   \n",
       "6                                     Show banners with current promotions and sales on the main page to increase conversion   \n",
       "7                                   Add a subscription form to all main pages to build a customer base for email newsletters   \n",
       "8                                                         Launch a promotion that gives a discount on goods on your birthday   \n",
       "\n",
       "   reach  impact  confidence  efforts    ICE   RICE  \n",
       "0      3      10           8        6  13.33   40.0  \n",
       "1      2       5           4       10   2.00    4.0  \n",
       "2      8       3           7        3   7.00   56.0  \n",
       "3      8       3           3        8   1.12    9.0  \n",
       "4      3       1           1        1   1.00    3.0  \n",
       "5      3       2           2        3   1.33    4.0  \n",
       "6      5       3           8        3   8.00   40.0  \n",
       "7     10       7           8        5  11.20  112.0  \n",
       "8      1       9           9        5  16.20   16.2  "
      ]
     },
     "execution_count": 93,
     "metadata": {},
     "output_type": "execute_result"
    }
   ],
   "source": [
    "# How has the prioritization of hypotheses changed when RICE was used instead of ICE?\n",
    "pd.options.display.max_colwidth = 200\n",
    "hypothesis['ICE'] = hypothesis['ICE'].round(2)\n",
    "hypothesis\n"
   ]
  },
  {
   "cell_type": "markdown",
   "metadata": {},
   "source": [
    "#### Part one conclusion:\n",
    "After prioritization using the RICE framework, task 7 shifted to the first place - this happened because this task has an indicator reach = 10 - that is, this task has the widest coverage (it will affect the most users compared to others, and if 10 is the maximum score - then all users) - therefore it must be performed first.\n",
    "\n",
    "When prioritizing using the ICE method, we did not take into account such an indicator as coverage. The RICE method takes into account - hence the difference in priority lists for ICE and RICE"
   ]
  },
  {
   "cell_type": "markdown",
   "metadata": {},
   "source": [
    "### Part two code:"
   ]
  },
  {
   "cell_type": "code",
   "execution_count": 94,
   "metadata": {},
   "outputs": [],
   "source": [
    "# Importing data\n",
    "\n",
    "orders = pd.read_csv('orders.csv')\n",
    "visitors = pd.read_csv('visitors.csv')"
   ]
  },
  {
   "cell_type": "code",
   "execution_count": 95,
   "metadata": {},
   "outputs": [
    {
     "data": {
      "text/html": [
       "<div>\n",
       "<style scoped>\n",
       "    .dataframe tbody tr th:only-of-type {\n",
       "        vertical-align: middle;\n",
       "    }\n",
       "\n",
       "    .dataframe tbody tr th {\n",
       "        vertical-align: top;\n",
       "    }\n",
       "\n",
       "    .dataframe thead th {\n",
       "        text-align: right;\n",
       "    }\n",
       "</style>\n",
       "<table border=\"1\" class=\"dataframe\">\n",
       "  <thead>\n",
       "    <tr style=\"text-align: right;\">\n",
       "      <th></th>\n",
       "      <th>transactionId</th>\n",
       "      <th>visitorId</th>\n",
       "      <th>date</th>\n",
       "      <th>revenue</th>\n",
       "      <th>group</th>\n",
       "    </tr>\n",
       "  </thead>\n",
       "  <tbody>\n",
       "    <tr>\n",
       "      <th>0</th>\n",
       "      <td>3667963787</td>\n",
       "      <td>3312258926</td>\n",
       "      <td>2019-08-15</td>\n",
       "      <td>1650</td>\n",
       "      <td>B</td>\n",
       "    </tr>\n",
       "    <tr>\n",
       "      <th>1</th>\n",
       "      <td>2804400009</td>\n",
       "      <td>3642806036</td>\n",
       "      <td>2019-08-15</td>\n",
       "      <td>730</td>\n",
       "      <td>B</td>\n",
       "    </tr>\n",
       "    <tr>\n",
       "      <th>2</th>\n",
       "      <td>2961555356</td>\n",
       "      <td>4069496402</td>\n",
       "      <td>2019-08-15</td>\n",
       "      <td>400</td>\n",
       "      <td>A</td>\n",
       "    </tr>\n",
       "  </tbody>\n",
       "</table>\n",
       "</div>"
      ],
      "text/plain": [
       "   transactionId   visitorId        date  revenue group\n",
       "0     3667963787  3312258926  2019-08-15     1650     B\n",
       "1     2804400009  3642806036  2019-08-15      730     B\n",
       "2     2961555356  4069496402  2019-08-15      400     A"
      ]
     },
     "execution_count": 95,
     "metadata": {},
     "output_type": "execute_result"
    }
   ],
   "source": [
    "orders.head(3)"
   ]
  },
  {
   "cell_type": "code",
   "execution_count": 96,
   "metadata": {},
   "outputs": [
    {
     "data": {
      "text/html": [
       "<div>\n",
       "<style scoped>\n",
       "    .dataframe tbody tr th:only-of-type {\n",
       "        vertical-align: middle;\n",
       "    }\n",
       "\n",
       "    .dataframe tbody tr th {\n",
       "        vertical-align: top;\n",
       "    }\n",
       "\n",
       "    .dataframe thead th {\n",
       "        text-align: right;\n",
       "    }\n",
       "</style>\n",
       "<table border=\"1\" class=\"dataframe\">\n",
       "  <thead>\n",
       "    <tr style=\"text-align: right;\">\n",
       "      <th></th>\n",
       "      <th>date</th>\n",
       "      <th>group</th>\n",
       "      <th>visitors</th>\n",
       "    </tr>\n",
       "  </thead>\n",
       "  <tbody>\n",
       "    <tr>\n",
       "      <th>0</th>\n",
       "      <td>2019-08-01</td>\n",
       "      <td>A</td>\n",
       "      <td>719</td>\n",
       "    </tr>\n",
       "    <tr>\n",
       "      <th>1</th>\n",
       "      <td>2019-08-02</td>\n",
       "      <td>A</td>\n",
       "      <td>619</td>\n",
       "    </tr>\n",
       "    <tr>\n",
       "      <th>2</th>\n",
       "      <td>2019-08-03</td>\n",
       "      <td>A</td>\n",
       "      <td>507</td>\n",
       "    </tr>\n",
       "  </tbody>\n",
       "</table>\n",
       "</div>"
      ],
      "text/plain": [
       "         date group  visitors\n",
       "0  2019-08-01     A       719\n",
       "1  2019-08-02     A       619\n",
       "2  2019-08-03     A       507"
      ]
     },
     "execution_count": 96,
     "metadata": {},
     "output_type": "execute_result"
    }
   ],
   "source": [
    "visitors.head(3)"
   ]
  },
  {
   "cell_type": "code",
   "execution_count": 97,
   "metadata": {},
   "outputs": [],
   "source": [
    "# let's build a funtion for duplicate checks\n",
    "def duplicate_check(source):\n",
    "\n",
    "    dubl = source.duplicated().sum()\n",
    "    result = f'Number of duplicates: {dubl}'\n",
    "\n",
    "    return result"
   ]
  },
  {
   "cell_type": "code",
   "execution_count": 98,
   "metadata": {},
   "outputs": [
    {
     "data": {
      "text/plain": [
       "'Number of duplicates: 0'"
      ]
     },
     "execution_count": 98,
     "metadata": {},
     "output_type": "execute_result"
    }
   ],
   "source": [
    "# Let's check data for duplicates\n",
    "duplicate_check(visitors)\n"
   ]
  },
  {
   "cell_type": "code",
   "execution_count": 99,
   "metadata": {},
   "outputs": [
    {
     "data": {
      "text/plain": [
       "'Number of duplicates: 0'"
      ]
     },
     "execution_count": 99,
     "metadata": {},
     "output_type": "execute_result"
    }
   ],
   "source": [
    "# Let's check data for duplicates\n",
    "duplicate_check(orders)"
   ]
  },
  {
   "cell_type": "code",
   "execution_count": 100,
   "metadata": {},
   "outputs": [
    {
     "name": "stdout",
     "output_type": "stream",
     "text": [
      "<class 'pandas.core.frame.DataFrame'>\n",
      "RangeIndex: 62 entries, 0 to 61\n",
      "Data columns (total 3 columns):\n",
      " #   Column    Non-Null Count  Dtype \n",
      "---  ------    --------------  ----- \n",
      " 0   date      62 non-null     object\n",
      " 1   group     62 non-null     object\n",
      " 2   visitors  62 non-null     int64 \n",
      "dtypes: int64(1), object(2)\n",
      "memory usage: 1.6+ KB\n",
      "<class 'pandas.core.frame.DataFrame'>\n",
      "RangeIndex: 1197 entries, 0 to 1196\n",
      "Data columns (total 5 columns):\n",
      " #   Column         Non-Null Count  Dtype \n",
      "---  ------         --------------  ----- \n",
      " 0   transactionId  1197 non-null   int64 \n",
      " 1   visitorId      1197 non-null   int64 \n",
      " 2   date           1197 non-null   object\n",
      " 3   revenue        1197 non-null   int64 \n",
      " 4   group          1197 non-null   object\n",
      "dtypes: int64(3), object(2)\n",
      "memory usage: 46.9+ KB\n"
     ]
    }
   ],
   "source": [
    "# Let's see some additional info about the data like gaps and types\n",
    "visitors.info()\n",
    "orders.info()"
   ]
  },
  {
   "cell_type": "code",
   "execution_count": 101,
   "metadata": {},
   "outputs": [
    {
     "name": "stdout",
     "output_type": "stream",
     "text": [
      "   transactionId   visitorId       date  revenue group\n",
      "0     3667963787  3312258926 2019-08-15     1650     B\n",
      "1     2804400009  3642806036 2019-08-15      730     B\n",
      "2     2961555356  4069496402 2019-08-15      400     A\n",
      "3     3797467345  1196621759 2019-08-15     9759     B\n",
      "4     2282983706  2322279887 2019-08-15     2308     B\n",
      "        date group  visitors\n",
      "0 2019-08-01     A       719\n",
      "1 2019-08-02     A       619\n",
      "2 2019-08-03     A       507\n",
      "3 2019-08-04     A       717\n",
      "4 2019-08-05     A       756\n"
     ]
    }
   ],
   "source": [
    "# Let's modify format of the date\n",
    "\n",
    "orders['date'] = orders['date'].map(\n",
    "    lambda x: dt.datetime.strptime(x, '%Y-%m-%d'))\n",
    "\n",
    "\n",
    "\n",
    "visitors['date'] = visitors['date'].map(\n",
    "    lambda x: dt.datetime.strptime(x, '%Y-%m-%d'))\n",
    "\n",
    "print(orders.head())\n",
    "print(visitors.head())"
   ]
  },
  {
   "cell_type": "markdown",
   "metadata": {},
   "source": [
    "    Data does not contain duplicates\n",
    "    Data does not contain gaps\n",
    "    Data types do not need to be changed at this time."
   ]
  },
  {
   "cell_type": "code",
   "execution_count": 102,
   "metadata": {},
   "outputs": [],
   "source": [
    "# Creating an array of unique pairs of date values and test groups\n",
    "\n",
    "datesGroups = orders[['date','group']].drop_duplicates()"
   ]
  },
  {
   "cell_type": "code",
   "execution_count": 103,
   "metadata": {},
   "outputs": [],
   "source": [
    "# Getting aggregated cumulative data on orders by day\n",
    "ordersAggregated = datesGroups.apply(\n",
    "    lambda x: orders[\n",
    "        np.logical_and(\n",
    "            orders['date'] <= x['date'], orders['group'] == x['group'])]\\\n",
    ".agg(\n",
    "        {\n",
    "            'date' : 'max', \n",
    "            'group' : 'max', \n",
    "            'transactionId' : 'nunique', \n",
    "            'visitorId' : 'nunique', \n",
    "            'revenue' : 'sum'\n",
    "        }\n",
    "    ), axis=1\n",
    ").sort_values(by=['date','group'])"
   ]
  },
  {
   "cell_type": "code",
   "execution_count": 104,
   "metadata": {},
   "outputs": [],
   "source": [
    "# Getting aggregated daily visitor data\n",
    "visitorsAggregated = datesGroups.apply(\n",
    "    lambda x: visitors[\n",
    "        np.logical_and(\n",
    "            visitors['date'] <= x['date'], visitors['group'] == x['group'])]\n",
    "    .agg({'date' : 'max', 'group' : 'max', 'visitors' : 'sum'}), axis=1).sort_values(by=['date','group'])"
   ]
  },
  {
   "cell_type": "code",
   "execution_count": 105,
   "metadata": {},
   "outputs": [],
   "source": [
    "# # combine cumulative data in one table and give its columns meaningful names\n",
    "cumulativeData = ordersAggregated.merge(visitorsAggregated, left_on=['date', 'group'], right_on=['date', 'group'])\n",
    "cumulativeData.columns = ['date', 'group', 'orders', 'buyers', 'revenue', 'visitors']"
   ]
  },
  {
   "cell_type": "markdown",
   "metadata": {},
   "source": [
    "#### Charts\n"
   ]
  },
  {
   "cell_type": "code",
   "execution_count": 106,
   "metadata": {},
   "outputs": [
    {
     "data": {
      "text/plain": [
       "<matplotlib.legend.Legend at 0x141d6e080>"
      ]
     },
     "execution_count": 106,
     "metadata": {},
     "output_type": "execute_result"
    },
    {
     "data": {
      "image/png": "[encoded data removed]",
      "text/plain": [
       "<Figure size 1224x504 with 1 Axes>"
      ]
     },
     "metadata": {
      "needs_background": "light"
     },
     "output_type": "display_data"
    }
   ],
   "source": [
    "# Let's build graphs of cumulative revenue by days and groups of A/B testing:\n",
    "\n",
    "# dataframe with cumulative number of orders and cumulative revenue by day in group A\n",
    "cumulativeRevenueA = cumulativeData[cumulativeData['group']=='A'][['date','revenue', 'orders']]\n",
    "\n",
    "# dataframe with cumulative number of orders and cumulative revenue by day in group B\n",
    "cumulativeRevenueB = cumulativeData[cumulativeData['group']=='B'][['date','revenue', 'orders']]\n",
    "\n",
    "plt.figure(figsize=(17, 7))\n",
    "\n",
    "# Building a graph for group А\n",
    "plt.plot(cumulativeRevenueA['date'], cumulativeRevenueA['revenue'], label='A')\n",
    "\n",
    "# Building a graph for group B\n",
    "plt.plot(cumulativeRevenueB['date'], cumulativeRevenueB['revenue'], label='B')\n",
    "plt.ylabel('Cumulative revenue')\n",
    "plt.xlabel('Date')\n",
    "plt.title('Cumulative revenue by groups')\n",
    "plt.legend()"
   ]
  },
  {
   "cell_type": "markdown",
   "metadata": {},
   "source": [
    "Segment A behaves stably throughout the test\n",
    "\n",
    "Segment B behaved stably until the middle of the test, then there was a sharp advance of segment A, after which stable behavior continued.\n",
    "\n",
    "There are anomalous values in the data that affect the test results. At the final analysis, they will need to be removed.\n",
    "\n",
    "Anomalies could have appeared as a result of a failure during data import, problems with the site, or non-standard user behavior. Most likely you should contact the developers for more information."
   ]
  },
  {
   "cell_type": "code",
   "execution_count": 107,
   "metadata": {},
   "outputs": [
    {
     "data": {
      "text/plain": [
       "<matplotlib.legend.Legend at 0x141d3a290>"
      ]
     },
     "execution_count": 107,
     "metadata": {},
     "output_type": "execute_result"
    },
    {
     "data": {
      "image/png": "[encoded data removed]",
      "text/plain": [
       "<Figure size 1224x504 with 1 Axes>"
      ]
     },
     "metadata": {
      "needs_background": "light"
     },
     "output_type": "display_data"
    }
   ],
   "source": [
    "# Let's build a graph of the cumulative average check by groups\n",
    "\n",
    "plt.figure(figsize=(17, 7))\n",
    "plt.plot(cumulativeRevenueA['date'], cumulativeRevenueA['revenue']/cumulativeRevenueA['orders'], label='A')\n",
    "plt.plot(cumulativeRevenueB['date'], cumulativeRevenueB['revenue']/cumulativeRevenueB['orders'], label='B')\n",
    " \n",
    "plt.ylabel('Price')\n",
    "plt.xlabel('Date')\n",
    "plt.title('Graph of the cumulative average check by groups')\n",
    "plt.legend()"
   ]
  },
  {
   "cell_type": "markdown",
   "metadata": {},
   "source": [
    "The cumulative value of the average ticket continues to fluctuate, especially in segment B.\n",
    "\n",
    "It's probably too early to make a decision.\n",
    "\n",
    "Additional outlier analysis may be required."
   ]
  },
  {
   "cell_type": "code",
   "execution_count": 108,
   "metadata": {},
   "outputs": [
    {
     "data": {
      "text/plain": [
       "Text(0.5, 1.0, 'Graph of the relative change of the cumulative average check')"
      ]
     },
     "execution_count": 108,
     "metadata": {},
     "output_type": "execute_result"
    },
    {
     "data": {
      "image/png": "[encoded data removed]",
      "text/plain": [
       "<Figure size 1224x504 with 1 Axes>"
      ]
     },
     "metadata": {
      "needs_background": "light"
     },
     "output_type": "display_data"
    }
   ],
   "source": [
    "# Let's build graph of the relative change in the cumulative average check of group B to group A\n",
    "\n",
    "# collecting data in one dataframe\n",
    "mergedCumulativeRevenue = cumulativeRevenueA.merge(cumulativeRevenueB, left_on='date', right_on='date', how='left', suffixes=['A', 'B'])\n",
    "\n",
    "# building the ratio of average bills\n",
    "plt.figure(figsize=(17, 7))\n",
    "plt.plot(mergedCumulativeRevenue['date'], (mergedCumulativeRevenue['revenueB']/mergedCumulativeRevenue['ordersB'])/(mergedCumulativeRevenue['revenueA']/mergedCumulativeRevenue['ordersA'])-1)\n",
    "\n",
    "# adding x axis\n",
    "plt.axhline(y=0, color='black', linestyle='--')\n",
    "plt.ylabel('Relative change in mean')\n",
    "plt.xlabel('Date')\n",
    "plt.title('Graph of the relative change of the cumulative average check')"
   ]
  },
  {
   "cell_type": "markdown",
   "metadata": {},
   "source": [
    "The graph shows that the test results changed dramatically several times during the test. Perhaps anomalous purchases were made these days."
   ]
  },
  {
   "cell_type": "code",
   "execution_count": 109,
   "metadata": {},
   "outputs": [
    {
     "data": {
      "text/plain": [
       "(18109.0, 18140.0, 0.028, 0.038)"
      ]
     },
     "execution_count": 109,
     "metadata": {},
     "output_type": "execute_result"
    },
    {
     "data": {
      "image/png": "[encoded data removed]",
      "text/plain": [
       "<Figure size 1224x504 with 1 Axes>"
      ]
     },
     "metadata": {
      "needs_background": "light"
     },
     "output_type": "display_data"
    }
   ],
   "source": [
    "# Let's build cumulative conversion graph by group\n",
    "\n",
    "#calculate cumulative conversion\n",
    "cumulativeData['conversion'] = cumulativeData['orders']/cumulativeData['visitors']\n",
    "\n",
    "# separating data by group A\n",
    "cumulativeDataA = cumulativeData[cumulativeData['group']=='A']\n",
    "\n",
    "# separating data by group B\n",
    "cumulativeDataB = cumulativeData[cumulativeData['group']=='B']\n",
    "\n",
    "# building graphs\n",
    "plt.figure(figsize=(17, 7))\n",
    "\n",
    "plt.plot(cumulativeDataA['date'], cumulativeDataA['conversion'], label='A')\n",
    "plt.plot(cumulativeDataB['date'], cumulativeDataB['conversion'], label='B')\n",
    "\n",
    "plt.ylabel('Cumulative conversion')\n",
    "plt.xlabel('Date')\n",
    "plt.title('Cumulative conversion chart by group')\n",
    "plt.legend()\n",
    "\n",
    "# setting the scale of the axes\n",
    "plt.axis([dt.datetime(2019, 8, 1), dt.datetime(2019, 9, 1), 0.028, 0.038])"
   ]
  },
  {
   "cell_type": "markdown",
   "metadata": {},
   "source": [
    "A few days after the start of the experiment, the conversion of segment B increased and was never lower than the conversion of segment A again.\n",
    "\n",
    "Conversions of both segments were fixed at their own values."
   ]
  },
  {
   "cell_type": "code",
   "execution_count": 110,
   "metadata": {},
   "outputs": [
    {
     "data": {
      "text/plain": [
       "<matplotlib.lines.Line2D at 0x141f8e3b0>"
      ]
     },
     "execution_count": 110,
     "metadata": {},
     "output_type": "execute_result"
    },
    {
     "data": {
      "image/png": "[encoded data removed]",
      "text/plain": [
       "<Figure size 1224x504 with 1 Axes>"
      ]
     },
     "metadata": {
      "needs_background": "light"
     },
     "output_type": "display_data"
    }
   ],
   "source": [
    "# graph of the relative change in the cumulative conversion of group B to group A.\n",
    "\n",
    "mergedCumulativeConversions = cumulativeDataA[['date','conversion']].merge(cumulativeDataB[['date','conversion']], left_on='date', right_on='date', how='left', suffixes=['A', 'B'])\n",
    "\n",
    "# building graphs\n",
    "plt.figure(figsize=(17, 7))\n",
    "\n",
    "plt.plot(mergedCumulativeConversions['date'], mergedCumulativeConversions['conversionB']/mergedCumulativeConversions['conversionA']-1, label=\"Относительный прирост конверсии группы B относительно группы A\")\n",
    "\n",
    "plt.ylabel('Relative change')\n",
    "plt.xlabel('Date')\n",
    "plt.title('graph of relative change in cumulative conversion')\n",
    "plt.legend()\n",
    "\n",
    "plt.axhline(y=0, color='black', linestyle='--')\n",
    "plt.axhline(y=0.2, color='grey', linestyle='--')\n",
    "plt.axhline(y=0.15, color='red', linestyle='--')\n",
    "plt.axhline(y=0.10, color='red', linestyle='--')"
   ]
  },
  {
   "cell_type": "markdown",
   "metadata": {},
   "source": [
    "Group B leads in terms of conversion. In the middle of the experiment, it reached the mark of 20%, then it dropped a little and fixed in the range of growth of 10-15% relative to group A"
   ]
  },
  {
   "cell_type": "code",
   "execution_count": 111,
   "metadata": {},
   "outputs": [
    {
     "data": {
      "image/png": "[encoded data removed]",
      "text/plain": [
       "<Figure size 432x288 with 1 Axes>"
      ]
     },
     "metadata": {
      "needs_background": "light"
     },
     "output_type": "display_data"
    }
   ],
   "source": [
    "# scatter plot of the number of orders by users\n",
    "\n",
    "ordersByUsers = (\n",
    "    orders.groupby('visitorId', as_index=False)\n",
    "    .agg({'transactionId': 'nunique'})\n",
    ")\n",
    "\n",
    "ordersByUsers.columns = ['visitorId', 'orders']\n",
    "\n",
    "\n",
    "ordersByUsers.plot(x='visitorId', \n",
    "                   y='orders', \n",
    "                   kind = 'scatter', \n",
    "                   color= 'green')\n",
    "\n",
    "plt.title('graph of the number of orders by users')\n",
    "plt.show()"
   ]
  },
  {
   "cell_type": "markdown",
   "metadata": {},
   "source": [
    "The graph shows how many orders a single user makes.\n",
    "\n",
    "1 or 2 3 orders is a very popular practice\n",
    "\n",
    "4 to 5. quite rare cases\n",
    "\n",
    "8 - 10 - abnormal\n",
    "\n",
    "we will get a more detailed look at this situation by calculating 95 and 99 persyntiles in the next step."
   ]
  },
  {
   "cell_type": "code",
   "execution_count": 112,
   "metadata": {},
   "outputs": [
    {
     "name": "stdout",
     "output_type": "stream",
     "text": [
      "[1. 2. 4.]\n"
     ]
    }
   ],
   "source": [
    "# 95th and 99th percentile of orders per user.\n",
    "\n",
    "# method np.percentile('column', [percentile1, percentile2, percentile3]) находит перцентили.\n",
    "orders_per_user_persentil = np.percentile(ordersByUsers['orders'],[90,95,99])\n",
    "print(orders_per_user_persentil)"
   ]
  },
  {
   "cell_type": "markdown",
   "metadata": {},
   "source": [
    "90% of users place only 1 order\n",
    "\n",
    "no more than 5% of users make 2 or more orders\n",
    "\n",
    "no more than 1% of users make 4 or more orders\n"
   ]
  },
  {
   "cell_type": "code",
   "execution_count": 113,
   "metadata": {},
   "outputs": [
    {
     "data": {
      "image/png": "[encoded data removed]",
      "text/plain": [
       "<Figure size 432x288 with 1 Axes>"
      ]
     },
     "metadata": {
      "needs_background": "light"
     },
     "output_type": "display_data"
    }
   ],
   "source": [
    "\n",
    "orders_filtered = orders[orders['revenue'] < 200000]\n",
    "\n",
    "x_values = pd.Series(range(0, len(orders_filtered['revenue'])))\n",
    "plt.scatter(x_values, orders_filtered['revenue'])\n",
    "\n",
    "plt.title('dot plot of order values')\n",
    "plt.ylabel('Price')\n",
    "plt.xlabel('Orders')\n",
    "plt.show()"
   ]
  },
  {
   "cell_type": "markdown",
   "metadata": {},
   "source": [
    "Most orders in the range from 0 - 200,000\n",
    "\n",
    "Anything above can be considered an outlier.\n"
   ]
  },
  {
   "cell_type": "code",
   "execution_count": 114,
   "metadata": {},
   "outputs": [
    {
     "name": "stdout",
     "output_type": "stream",
     "text": [
      "[18168.  28000.  58233.2]\n"
     ]
    }
   ],
   "source": [
    "# 95th and 99th order value percentiles. The border for abnormal orders.\n",
    "\n",
    "orders_persentil = np.percentile(orders['revenue'],[90,95,99])\n",
    "print(orders_persentil)"
   ]
  },
  {
   "cell_type": "markdown",
   "metadata": {},
   "source": [
    "No more than 5% of orders have a check more than 28,000 \n",
    "\n",
    "No more than 1% of orders have a check more expensive than 58,233 \n"
   ]
  },
  {
   "cell_type": "markdown",
   "metadata": {},
   "source": [
    "#### Let's calculate the statistical significance of differences in conversion between groups according to \"raw\" data.\n",
    "\n",
    "Ho - conversions between groups when calculating on 'raw data' are\n",
    "\n",
    "H1 - conversions between groups when calculating 'raw data' are not equal"
   ]
  },
  {
   "cell_type": "code",
   "execution_count": 115,
   "metadata": {},
   "outputs": [
    {
     "name": "stdout",
     "output_type": "stream",
     "text": [
      "p-value: 0.01679\n",
      "relative difference in conversion between groups: 0.138\n"
     ]
    }
   ],
   "source": [
    "# Mann-Whitney test\n",
    "visitorsADaily = visitors[visitors['group'] == 'A'][['date', 'visitors']]\n",
    "visitorsADaily.columns = ['date', 'visitorsPerDateA']\n",
    "\n",
    "visitorsACummulative = visitorsADaily.apply(\n",
    "    lambda x: visitorsADaily[visitorsADaily['date'] <= x['date']].agg(\n",
    "        {'date': 'max', 'visitorsPerDateA': 'sum'}\n",
    "    ),\n",
    "    axis=1,\n",
    ")\n",
    "visitorsACummulative.columns = ['date', 'visitorsCummulativeA']\n",
    "\n",
    "visitorsBDaily = visitors[visitors['group'] == 'B'][['date', 'visitors']]\n",
    "visitorsBDaily.columns = ['date', 'visitorsPerDateB']\n",
    "\n",
    "visitorsBCummulative = visitorsBDaily.apply(\n",
    "    lambda x: visitorsBDaily[visitorsBDaily['date'] <= x['date']].agg(\n",
    "        {'date': 'max', 'visitorsPerDateB': 'sum'}\n",
    "    ),\n",
    "    axis=1,\n",
    ")\n",
    "visitorsBCummulative.columns = ['date', 'visitorsCummulativeB']\n",
    "\n",
    "ordersADaily = (\n",
    "    orders[orders['group'] == 'A'][['date', 'transactionId', 'visitorId', 'revenue']]\n",
    "    .groupby('date', as_index=False)\n",
    "    .agg({'transactionId': pd.Series.nunique, 'revenue': 'sum'})\n",
    ")\n",
    "ordersADaily.columns = ['date', 'ordersPerDateA', 'revenuePerDateA']\n",
    "\n",
    "ordersACummulative = ordersADaily.apply(\n",
    "    lambda x: ordersADaily[ordersADaily['date'] <= x['date']].agg(\n",
    "        {'date': 'max', 'ordersPerDateA': 'sum', 'revenuePerDateA': 'sum'}\n",
    "    ),\n",
    "    axis=1,\n",
    ").sort_values(by=['date'])\n",
    "ordersACummulative.columns = [\n",
    "    'date',\n",
    "    'ordersCummulativeA',\n",
    "    'revenueCummulativeA',\n",
    "]\n",
    "\n",
    "ordersBDaily = (\n",
    "    orders[orders['group'] == 'B'][['date', 'transactionId', 'visitorId', 'revenue']]\n",
    "    .groupby('date', as_index=False)\n",
    "    .agg({'transactionId': pd.Series.nunique, 'revenue': 'sum'})\n",
    ")\n",
    "ordersBDaily.columns = ['date', 'ordersPerDateB', 'revenuePerDateB']\n",
    "\n",
    "ordersBCummulative = ordersBDaily.apply(\n",
    "    lambda x: ordersBDaily[ordersBDaily['date'] <= x['date']].agg(\n",
    "        {'date': 'max', 'ordersPerDateB': 'sum', 'revenuePerDateB': 'sum'}\n",
    "    ),\n",
    "    axis=1,\n",
    ").sort_values(by=['date'])\n",
    "ordersBCummulative.columns = [\n",
    "    'date',\n",
    "    'ordersCummulativeB',\n",
    "    'revenueCummulativeB',\n",
    "]\n",
    "\n",
    "\n",
    "data = (\n",
    "    ordersADaily.merge(\n",
    "        ordersBDaily, left_on='date', right_on='date', how='left'\n",
    "    )\n",
    "    .merge(ordersACummulative, left_on='date', right_on='date', how='left')\n",
    "    .merge(ordersBCummulative, left_on='date', right_on='date', how='left')\n",
    "    .merge(visitorsADaily, left_on='date', right_on='date', how='left')\n",
    "    .merge(visitorsBDaily, left_on='date', right_on='date', how='left')\n",
    "    .merge(visitorsACummulative, left_on='date', right_on='date', how='left')\n",
    "    .merge(visitorsBCummulative, left_on='date', right_on='date', how='left')\n",
    ")\n",
    "\n",
    "\n",
    "ordersByUsersA = (\n",
    "    orders[orders['group'] == 'A']\n",
    "    .groupby('visitorId', as_index=False)\n",
    "    .agg({'transactionId': pd.Series.nunique})\n",
    ")\n",
    "ordersByUsersA.columns = ['userId', 'orders']\n",
    "\n",
    "\n",
    "ordersByUsersB = (\n",
    "    orders[orders['group'] == 'B']\n",
    "    .groupby('visitorId', as_index=False)\n",
    "    .agg({'transactionId': pd.Series.nunique})\n",
    ")\n",
    "ordersByUsersB.columns = ['visitorId', 'orders']\n",
    "\n",
    "pd.Series(0, index=np.arange(data['visitorsPerDateA'].sum() - len(ordersByUsersA['orders'])), name='orders')\n",
    " \n",
    "[ordersByUsersA['orders'],pd.Series(0, index=np.arange(data['visitorsPerDateA'].sum() - len(ordersByUsersA['orders'])), name='orders')]\n",
    "\n",
    "sampleA = pd.concat([ordersByUsersA['orders'],pd.Series(0, index=np.arange(data['visitorsPerDateA'].sum() - len(ordersByUsersA['orders'])), name='orders')],axis=0)\n",
    "\n",
    "sampleB = pd.concat([ordersByUsersB['orders'],pd.Series(0, index=np.arange(data['visitorsPerDateB'].sum() - len(ordersByUsersB['orders'])), name='orders')],axis=0)\n",
    "\n",
    "ordersByUsersA = (\n",
    "    orders[orders['group'] == 'A']\n",
    "    .groupby('visitorId', as_index=False)\n",
    "    .agg({'transactionId': pd.Series.nunique})\n",
    ")\n",
    "ordersByUsersA.columns = ['visitorId', 'orders']\n",
    "\n",
    "ordersByUsersB = (\n",
    "    orders[orders['group'] == 'B']\n",
    "    .groupby('visitorId', as_index=False)\n",
    "    .agg({'transactionId': pd.Series.nunique})\n",
    ")\n",
    "ordersByUsersB.columns = ['visitorId', 'orders']\n",
    "\n",
    "sampleA = pd.concat(\n",
    "    [\n",
    "        ordersByUsersA['orders'],\n",
    "        pd.Series(\n",
    "            0,\n",
    "            index=np.arange(\n",
    "                data['visitorsPerDateA'].sum() - len(ordersByUsersA['orders'])\n",
    "            ),\n",
    "            name='orders',\n",
    "        ),\n",
    "    ],\n",
    "    axis=0,\n",
    ")\n",
    "\n",
    "sampleB = pd.concat(\n",
    "    [\n",
    "        ordersByUsersB['orders'],\n",
    "        pd.Series(\n",
    "            0,\n",
    "            index=np.arange(\n",
    "                data['visitorsPerDateB'].sum() - len(ordersByUsersB['orders'])\n",
    "            ),\n",
    "            name='orders',\n",
    "        ),\n",
    "    ],\n",
    "    axis=0,\n",
    ")\n",
    "#Output p-value to compare conversion between groups. Round p-value to 5 decimal places\n",
    "print(\"p-value: {0:.5f}\".format(stats.mannwhitneyu(sampleA, sampleB)[1]))\n",
    "\n",
    "\n",
    "# Calculate and output the relative difference in conversion between groups. Round to 3 decimal places\n",
    "print(\n",
    "    \"relative difference in conversion between groups: {0:.3f}\".format(\n",
    "        (data['ordersPerDateB'].sum() / data['visitorsPerDateB'].sum())\n",
    "        / (data['ordersPerDateA'].sum() / data['visitorsPerDateA'].sum())\n",
    "        - 1\n",
    "    )\n",
    ")\n"
   ]
  },
  {
   "cell_type": "markdown",
   "metadata": {},
   "source": [
    "p-value is less than 0.05, so we reject the null hypothesis. Raw data analysis showed that there are statistically significant differences in conversion between groups. The relative increase in the conversion of group B to the conversion of group A is 13.8%"
   ]
  },
  {
   "cell_type": "markdown",
   "metadata": {},
   "source": [
    "#### Let's calculate the statistical significance of the differences in the average order receipt between the groups according to the \"raw\" data.\n",
    "\n",
    "Ho - statistically significant differences in the average check when calculating according to 'raw data' are equal between groups\n",
    "\n",
    "H1 - statistically significant differences in the average check when calculated according to 'raw data' are not equal between groups"
   ]
  },
  {
   "cell_type": "code",
   "execution_count": 116,
   "metadata": {},
   "outputs": [
    {
     "name": "stdout",
     "output_type": "stream",
     "text": [
      "p-value: 0.729\n",
      "0.259\n"
     ]
    }
   ],
   "source": [
    "\n",
    "print('p-value: {0:.3f}'.format(stats.mannwhitneyu(orders[orders['group']=='A']['revenue'], orders[orders['group']=='B']['revenue'])[1]))\n",
    "print('{0:.3f}'.format(orders[orders['group']=='B']['revenue'].mean()/orders[orders['group']=='A']['revenue'].mean()-1))"
   ]
  },
  {
   "cell_type": "markdown",
   "metadata": {},
   "source": [
    "p-value is greater than 0.05 - we cannot disprove the null hypothesis.\n",
    "\n",
    "there are no statistically significant differences in the average check between the groups\n",
    "\n",
    "relative difference in the average check between segments 25%\n"
   ]
  },
  {
   "cell_type": "markdown",
   "metadata": {},
   "source": [
    "#### Let's calculate the statistical significance of differences in conversion between groups according to \"cleaned\" data\n",
    "\n",
    "Ho - conversion between groups when calculated from cleaned data is equal to \n",
    "\n",
    "H1 - conversion between groups when calculated from cleaned data is not equal"
   ]
  },
  {
   "cell_type": "code",
   "execution_count": 117,
   "metadata": {},
   "outputs": [
    {
     "name": "stdout",
     "output_type": "stream",
     "text": [
      "1099    148427295\n",
      "18      199603092\n",
      "928     204675465\n",
      "23      237748145\n",
      "37      249864742\n",
      "Name: visitorId, dtype: int64\n"
     ]
    }
   ],
   "source": [
    "# Let's find anomalous users\n",
    "usersWithManyOrders = pd.concat(\n",
    "    [\n",
    "        ordersByUsersA[ordersByUsersA['orders'] > orders_per_user_persentil[1]]['visitorId'],\n",
    "        ordersByUsersB[ordersByUsersB['orders'] > orders_per_user_persentil[1]]['visitorId'],\n",
    "    ],\n",
    "    axis=0,\n",
    ")\n",
    "usersWithExpensiveOrders = orders[orders['revenue'] > orders_persentil[1]]['visitorId']\n",
    "abnormalUsers = (\n",
    "    pd.concat([usersWithManyOrders, usersWithExpensiveOrders], axis=0)\n",
    "    .drop_duplicates()\n",
    "    .sort_values()\n",
    ")\n",
    "print(abnormalUsers.head(5))"
   ]
  },
  {
   "cell_type": "code",
   "execution_count": 118,
   "metadata": {},
   "outputs": [
    {
     "name": "stdout",
     "output_type": "stream",
     "text": [
      "0.01304\n",
      "0.173\n"
     ]
    }
   ],
   "source": [
    "sampleAFiltered = pd.concat(\n",
    "    [\n",
    "        ordersByUsersA[\n",
    "            np.logical_not(ordersByUsersA['visitorId'].isin(abnormalUsers))\n",
    "        ]['orders'],\n",
    "        pd.Series(\n",
    "            0,\n",
    "            index=np.arange(\n",
    "                data['visitorsPerDateA'].sum() - len(ordersByUsersA['orders'])\n",
    "            ),\n",
    "            name='orders',\n",
    "        ),\n",
    "    ],\n",
    "    axis=0,\n",
    ")\n",
    "\n",
    "sampleBFiltered = pd.concat(\n",
    "    [\n",
    "        ordersByUsersB[\n",
    "            np.logical_not(ordersByUsersB['visitorId'].isin(abnormalUsers))\n",
    "        ]['orders'],\n",
    "        pd.Series(\n",
    "            0,\n",
    "            index=np.arange(\n",
    "                data['visitorsPerDateB'].sum() - len(ordersByUsersB['orders'])\n",
    "            ),\n",
    "            name='orders',\n",
    "        ),\n",
    "    ],\n",
    "    axis=0,\n",
    ")\n",
    "print('{0:.5f}'.format(stats.mannwhitneyu(sampleAFiltered, sampleBFiltered)[1]))\n",
    "print('{0:.3f}'.format(sampleBFiltered.mean()/sampleAFiltered.mean()-1)) "
   ]
  },
  {
   "cell_type": "markdown",
   "metadata": {},
   "source": [
    "Segment B is better than segment A"
   ]
  },
  {
   "cell_type": "markdown",
   "metadata": {},
   "source": [
    "#### Let's calculate the statistical significance of the differences in the average order receipt between the groups according to the \"cleaned\" data.\n",
    "\n",
    "Ho - the value of the average check between groups when calculating by cleared data is equal to\n",
    "\n",
    "H1 - the value of the average check between groups when calculating by cleared data is not equal to"
   ]
  },
  {
   "cell_type": "code",
   "execution_count": 119,
   "metadata": {},
   "outputs": [
    {
     "name": "stdout",
     "output_type": "stream",
     "text": [
      "p_value: 0.738\n",
      "-0.020\n"
     ]
    }
   ],
   "source": [
    "print('p_value:', \n",
    "    '{0:.3f}'.format(\n",
    "        stats.mannwhitneyu(\n",
    "            orders[\n",
    "                np.logical_and(\n",
    "                    orders['group'] == 'A',\n",
    "                    np.logical_not(orders['visitorId'].isin(abnormalUsers)),\n",
    "                )\n",
    "            ]['revenue'],\n",
    "            orders[\n",
    "                np.logical_and(\n",
    "                    orders['group'] == 'B',\n",
    "                    np.logical_not(orders['visitorId'].isin(abnormalUsers)),\n",
    "                )\n",
    "            ]['revenue'],\n",
    "        )[1]\n",
    "    )\n",
    ")\n",
    "\n",
    "print(\n",
    "    \"{0:.3f}\".format(\n",
    "        orders[\n",
    "            np.logical_and(\n",
    "                orders['group'] == 'B',\n",
    "                np.logical_not(orders['visitorId'].isin(abnormalUsers)),\n",
    "            )\n",
    "        ]['revenue'].mean()\n",
    "        / orders[\n",
    "            np.logical_and(\n",
    "                orders['group'] == 'A',\n",
    "                np.logical_not(orders['visitorId'].isin(abnormalUsers)),\n",
    "            )\n",
    "        ]['revenue'].mean()\n",
    "        - 1\n",
    "    )\n",
    ")\n"
   ]
  },
  {
   "cell_type": "code",
   "execution_count": null,
   "metadata": {},
   "outputs": [],
   "source": []
  },
  {
   "cell_type": "markdown",
   "metadata": {},
   "source": [
    "p-value greater than 0.05 - we cannot reject the null hypothesis\n",
    "\n",
    "there are no statistically significant differences in the average check between the groups\n",
    "\n",
    "the relative difference in the average check between segments is -1%, while for \"raw\" data it is 25%"
   ]
  },
  {
   "cell_type": "markdown",
   "metadata": {},
   "source": [
    "### Results\n",
    "\n",
    "The average check does not change, and the conversion in group B is higher than the average by 10% throughout almost the entire experiment.\n",
    "\n",
    "The experiment can be stopped and considered successful. With the increase in conversion, revenue will increase."
   ]
  }
 ],
 "metadata": {
  "interpreter": {
   "hash": "aee8b7b246df8f9039afb4144a1f6fd8d2ca17a180786b69acc140d282b71a49"
  },
  "kernelspec": {
   "display_name": "Python 3.10.4 64-bit",
   "language": "python",
   "name": "python3"
  },
  "language_info": {
   "codemirror_mode": {
    "name": "ipython",
    "version": 3
   },
   "file_extension": ".py",
   "mimetype": "text/x-python",
   "name": "python",
   "nbconvert_exporter": "python",
   "pygments_lexer": "ipython3",
   "version": "3.10.4"
  },
  "orig_nbformat": 4
 },
 "nbformat": 4,
 "nbformat_minor": 2
}
