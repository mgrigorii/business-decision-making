{
 "cells": [
  {
   "cell_type": "markdown",
   "metadata": {},
   "source": [
    "## This project consists of two parts.\n",
    "\n",
    "### Part 1\n",
    "We will work on techniques for prioritizing hypotheses using the ICE and RICE frameworks. Consider the features of each framework and the result of its application for business.\n",
    "\n",
    "data - hypothesis.csv\n",
    "\n",
    "    Hypothesis - a brief description of the hypothesis; \n",
    "    Reach - user coverage on a 10-point scale;\n",
    "    Impact - impact on users on a 10-point scale;\n",
    "    Confidence - confidence in the hypothesis on a 10-point scale;\n",
    "    Efforts - the cost of resources to test the hypothesis on a 10-point scale. The larger the Efforts value, the more expensive the hypothesis test.\n",
    "\n",
    "### Part 2\n",
    "Using the data of the test, you will need to analyze the results and decide what to do with the test: \n",
    "1. Stop the test, record the victory of one of the groups. \n",
    "2. Stop the test, record the absence of differences between groups. \n",
    "3. Continue the test.\n",
    "\n",
    "data - orders.csv\n",
    "\n",
    "    transactionId - order identifier;\n",
    "    visitorId - identifier of the user who made the order;\n",
    "    date — date when the order was made;\n",
    "    revenue — order revenue;\n",
    "    group — the A/B test group the order belongs to.\n",
    "\n",
    "data - visitors.csv\n",
    "\n",
    "    date - date;\n",
    "    group — A/B test group;\n",
    "    visitors - the number of users on the specified date in the specified A/B test group\n",
    "\n"
   ]
  },
  {
   "cell_type": "code",
   "execution_count": 1,
   "metadata": {},
   "outputs": [],
   "source": [
    "# Importing Libraries\n",
    "\n",
    "import pandas as pd\n",
    "import scipy.stats as stats\n",
    "import datetime as dt\n",
    "import numpy as np\n",
    "import matplotlib.pyplot as plt\n",
    "from pandas.plotting import register_matplotlib_converters\n",
    "import warnings"
   ]
  },
  {
   "cell_type": "code",
   "execution_count": null,
   "metadata": {},
   "outputs": [],
   "source": []
  }
 ],
 "metadata": {
  "interpreter": {
   "hash": "aee8b7b246df8f9039afb4144a1f6fd8d2ca17a180786b69acc140d282b71a49"
  },
  "kernelspec": {
   "display_name": "Python 3.10.4 64-bit",
   "language": "python",
   "name": "python3"
  },
  "language_info": {
   "codemirror_mode": {
    "name": "ipython",
    "version": 3
   },
   "file_extension": ".py",
   "mimetype": "text/x-python",
   "name": "python",
   "nbconvert_exporter": "python",
   "pygments_lexer": "ipython3",
   "version": "3.10.4"
  },
  "orig_nbformat": 4
 },
 "nbformat": 4,
 "nbformat_minor": 2
}
